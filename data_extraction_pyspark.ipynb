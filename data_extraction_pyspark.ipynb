{
 "cells": [
  {
   "cell_type": "code",
   "execution_count": 1,
   "id": "ac1737e5",
   "metadata": {},
   "outputs": [],
   "source": [
    "import openmeteo_requests\n",
    "\n",
    "import pandas as pd\n",
    "import requests_cache\n",
    "from retry_requests import retry\n",
    "\n",
    "import numpy as np\n",
    "import matplotlib.pyplot as plt\n",
    "\n",
    "from pyspark.sql import SparkSession\n",
    "from pyspark.sql.functions import col, sum as _sum, isnan, when, substring, to_timestamp, expr, year, count"
   ]
  },
  {
   "cell_type": "markdown",
   "id": "b35512ff",
   "metadata": {},
   "source": [
    "## Weather Data Api"
   ]
  },
  {
   "cell_type": "code",
   "execution_count": 2,
   "id": "91e2dc4c",
   "metadata": {},
   "outputs": [
    {
     "name": "stdout",
     "output_type": "stream",
     "text": [
      "Coordinates 13.75°N 100.5°E\n",
      "Elevation 9.0 m asl\n",
      "Timezone b'Asia/Bangkok'b'GMT+7'\n",
      "Timezone difference to GMT+0 25200 s\n"
     ]
    }
   ],
   "source": [
    "# Setup the Open-Meteo API client with cache and retry on error\n",
    "cache_session = requests_cache.CachedSession('.cache', expire_after = 1)\n",
    "retry_session = retry(cache_session, retries = 5, backoff_factor = 0.2)\n",
    "openmeteo = openmeteo_requests.Client(session = retry_session)\n",
    "\n",
    "# Make sure all required weather variables are listed here\n",
    "# The order of variables in hourly or daily is important to assign them correctly below\n",
    "url = \"https://historical-forecast-api.open-meteo.com/v1/forecast\"\n",
    "params = {\n",
    "\t\"latitude\": 13.74,\n",
    "\t\"longitude\": 100.52,\n",
    "\t\"start_date\": \"2021-03-23\",\n",
    "\t\"end_date\": \"2025-05-02\",\n",
    "\t\"hourly\": [\"temperature_2m\", \"relative_humidity_2m\", \"apparent_temperature\", \"precipitation\", \"dew_point_2m\", \"rain\"],\n",
    "\t\"timezone\": \"Asia/Bangkok\"\n",
    "}\n",
    "responses = openmeteo.weather_api(url, params=params)\n",
    "\n",
    "# Process first location. Add a for-loop for multiple locations or weather models\n",
    "response = responses[0]\n",
    "print(f\"Coordinates {response.Latitude()}°N {response.Longitude()}°E\")\n",
    "print(f\"Elevation {response.Elevation()} m asl\")\n",
    "print(f\"Timezone {response.Timezone()}{response.TimezoneAbbreviation()}\")\n",
    "print(f\"Timezone difference to GMT+0 {response.UtcOffsetSeconds()} s\")\n",
    "\n",
    "# Process hourly data. The order of variables needs to be the same as requested.\n",
    "hourly = response.Hourly()\n",
    "hourly_temperature_2m = hourly.Variables(0).ValuesAsNumpy()\n",
    "hourly_relative_humidity_2m = hourly.Variables(1).ValuesAsNumpy()\n",
    "hourly_apparent_temperature = hourly.Variables(2).ValuesAsNumpy()\n",
    "hourly_precipitation = hourly.Variables(3).ValuesAsNumpy()\n",
    "hourly_dew_point_2m = hourly.Variables(4).ValuesAsNumpy()\n",
    "hourly_rain = hourly.Variables(5).ValuesAsNumpy()\n",
    "\n",
    "hourly_data = {\"date\": pd.date_range(\n",
    "\tstart = pd.to_datetime(hourly.Time(), unit = \"s\", utc = True),\n",
    "\tend = pd.to_datetime(hourly.TimeEnd(), unit = \"s\", utc = True),\n",
    "\tfreq = pd.Timedelta(seconds = hourly.Interval()),\n",
    "\tinclusive = \"left\"\n",
    ")}\n",
    "\n",
    "hourly_data[\"temperature_2m\"] = hourly_temperature_2m\n",
    "hourly_data[\"relative_humidity_2m\"] = hourly_relative_humidity_2m\n",
    "hourly_data[\"apparent_temperature\"] = hourly_apparent_temperature\n",
    "hourly_data[\"precipitation\"] = hourly_precipitation\n",
    "hourly_data[\"dew_point_2m\"] = hourly_dew_point_2m\n",
    "hourly_data[\"rain\"] = hourly_rain\n",
    "\n",
    "hourly_dataframe = pd.DataFrame(data = hourly_data)\n",
    "hourly_dataframe['date'] = pd.to_datetime(hourly_dataframe['date']) + pd.Timedelta(hours=7)\n",
    "hourly_dataframe = hourly_dataframe.iloc[7:]\n",
    "hourly_dataframe = hourly_dataframe.rename(columns={'date': 'timestamp'})\n",
    "hourly_dataframe.to_csv(\"data/hourly_data.csv\", index = False)"
   ]
  },
  {
   "cell_type": "markdown",
   "id": "b24766f9",
   "metadata": {},
   "source": [
    "## Start Spark Session"
   ]
  },
  {
   "cell_type": "code",
   "execution_count": 3,
   "id": "756a3e7f",
   "metadata": {},
   "outputs": [
    {
     "name": "stderr",
     "output_type": "stream",
     "text": [
      "25/05/08 15:12:06 WARN Utils: Your hostname, Veerapats-MacBook-Air.local resolves to a loopback address: 127.0.0.1; using 10.201.140.123 instead (on interface en0)\n",
      "25/05/08 15:12:06 WARN Utils: Set SPARK_LOCAL_IP if you need to bind to another address\n",
      "Setting default log level to \"WARN\".\n",
      "To adjust logging level use sc.setLogLevel(newLevel). For SparkR, use setLogLevel(newLevel).\n",
      "25/05/08 15:12:06 WARN NativeCodeLoader: Unable to load native-hadoop library for your platform... using builtin-java classes where applicable\n"
     ]
    }
   ],
   "source": [
    "spark_url = 'local'\n",
    "spark = SparkSession.builder\\\n",
    "        .master(spark_url)\\\n",
    "        .appName('Spark SQL')\\\n",
    "        .getOrCreate()"
   ]
  },
  {
   "cell_type": "code",
   "execution_count": 4,
   "id": "7a4685c4",
   "metadata": {},
   "outputs": [],
   "source": [
    "# spark.stop()"
   ]
  },
  {
   "cell_type": "markdown",
   "id": "5d2a1e2e",
   "metadata": {},
   "source": [
    "## Read Traffy Fondue data"
   ]
  },
  {
   "cell_type": "code",
   "execution_count": 5,
   "id": "ace9edb9",
   "metadata": {},
   "outputs": [
    {
     "name": "stdout",
     "output_type": "stream",
     "text": [
      "root\n",
      " |-- ticket_id: string (nullable = true)\n",
      " |-- type: string (nullable = true)\n",
      " |-- organization: string (nullable = true)\n",
      " |-- comment: string (nullable = true)\n",
      " |-- photo: string (nullable = true)\n",
      " |-- photo_after: string (nullable = true)\n",
      " |-- coords: string (nullable = true)\n",
      " |-- address: string (nullable = true)\n",
      " |-- subdistrict: string (nullable = true)\n",
      " |-- district: string (nullable = true)\n",
      " |-- province: string (nullable = true)\n",
      " |-- timestamp: string (nullable = true)\n",
      " |-- state: string (nullable = true)\n",
      " |-- star: string (nullable = true)\n",
      " |-- count_reopen: string (nullable = true)\n",
      " |-- last_activity: string (nullable = true)\n",
      "\n"
     ]
    }
   ],
   "source": [
    "traffy_df = spark.read.option(\"header\", \"true\") \\\n",
    "                      .option(\"multiline\", \"true\") \\\n",
    "                      .option(\"quote\", '\"') \\\n",
    "                      .option(\"escape\", '\"') \\\n",
    "                      .option(\"mode\", \"PERMISSIVE\") \\\n",
    "                      .csv(\"data/bangkok_traffy.csv\")\n",
    "traffy_df.printSchema()"
   ]
  },
  {
   "cell_type": "code",
   "execution_count": 6,
   "id": "6d9807ea",
   "metadata": {},
   "outputs": [
    {
     "name": "stderr",
     "output_type": "stream",
     "text": [
      "25/05/08 15:12:21 WARN GarbageCollectionMetrics: To enable non-built-in garbage collector(s) List(G1 Concurrent GC), users should configure it(them) to spark.eventLog.gcMetrics.youngGenerationGarbageCollectors or spark.eventLog.gcMetrics.oldGenerationGarbageCollectors\n",
      "                                                                                \r"
     ]
    },
    {
     "name": "stdout",
     "output_type": "stream",
     "text": [
      "+---------+----+------------+-------+-----+-----------+------+-------+-----------+--------+--------+---------+-----+------+------------+-------------+\n",
      "|ticket_id|type|organization|comment|photo|photo_after|coords|address|subdistrict|district|province|timestamp|state|  star|count_reopen|last_activity|\n",
      "+---------+----+------------+-------+-----+-----------+------+-------+-----------+--------+--------+---------+-----+------+------------+-------------+\n",
      "|     8772|  97|         571|   8772|  115|     145717|     0|   8772|        566|     561|     195|        0|    0|512929|           0|            0|\n",
      "+---------+----+------------+-------+-----+-----------+------+-------+-----------+--------+--------+---------+-----+------+------------+-------------+\n",
      "\n"
     ]
    }
   ],
   "source": [
    "null_counts = traffy_df.select([\n",
    "    _sum(when(col(c).isNull() | isnan(col(c)), 1).otherwise(0)).alias(c)\n",
    "    for c in traffy_df.columns\n",
    "])\n",
    "null_counts.show()"
   ]
  },
  {
   "cell_type": "code",
   "execution_count": 7,
   "id": "b3194063",
   "metadata": {},
   "outputs": [
    {
     "name": "stderr",
     "output_type": "stream",
     "text": [
      "[Stage 4:>                                                          (0 + 1) / 1]\r"
     ]
    },
    {
     "name": "stdout",
     "output_type": "stream",
     "text": [
      "Rows: 787026, Columns: 16\n"
     ]
    },
    {
     "name": "stderr",
     "output_type": "stream",
     "text": [
      "                                                                                \r"
     ]
    }
   ],
   "source": [
    "print(f\"Rows: {traffy_df.count()}, Columns: {len(traffy_df.columns)}\")"
   ]
  },
  {
   "cell_type": "markdown",
   "id": "534583a6",
   "metadata": {},
   "source": [
    "## Clean Data"
   ]
  },
  {
   "cell_type": "code",
   "execution_count": 8,
   "id": "254a2904",
   "metadata": {},
   "outputs": [
    {
     "name": "stderr",
     "output_type": "stream",
     "text": [
      "[Stage 7:>                                                          (0 + 1) / 1]\r"
     ]
    },
    {
     "name": "stdout",
     "output_type": "stream",
     "text": [
      "Rows: 326927, Columns: 13\n"
     ]
    },
    {
     "name": "stderr",
     "output_type": "stream",
     "text": [
      "                                                                                \r"
     ]
    }
   ],
   "source": [
    "drop_columns = ['photo', 'photo_after', 'star']\n",
    "keep_types = [\"{ถนน}\", \"{ทางเท้า}\", \"{แสงสว่าง}\", \"{ความสะอาด}\", \"{กีดขวาง}\", \"{น้ำท่วม}\",\n",
    "              \"{ท่อระบายน้ำ}\", \"{จราจร}\", \"{ป้าย}\", \"{ความปลอดภัย}\", \"{ต้นไม้}\"]\n",
    "\n",
    "traffy_df = traffy_df.drop(*drop_columns)\n",
    "traffy_df = traffy_df.na.drop(subset=[\"type\"])\n",
    "traffy_df = traffy_df.filter(col(\"type\") != \"{}\")\n",
    "traffy_df = traffy_df.filter(col(\"type\").isin(keep_types))\n",
    "\n",
    "print(f\"Rows: {traffy_df.count()}, Columns: {len(traffy_df.columns)}\")"
   ]
  },
  {
   "cell_type": "code",
   "execution_count": 9,
   "id": "6235e8aa",
   "metadata": {},
   "outputs": [
    {
     "name": "stderr",
     "output_type": "stream",
     "text": [
      "[Stage 10:>                                                         (0 + 1) / 1]\r"
     ]
    },
    {
     "name": "stdout",
     "output_type": "stream",
     "text": [
      "+-------------+-----+\n",
      "|         type|count|\n",
      "+-------------+-----+\n",
      "|        {ถนน}|85651|\n",
      "|    {ทางเท้า}|54485|\n",
      "|   {แสงสว่าง}|34163|\n",
      "|  {ความสะอาด}|32223|\n",
      "|    {กีดขวาง}|28404|\n",
      "|    {น้ำท่วม}|17860|\n",
      "|{ท่อระบายน้ำ}|17496|\n",
      "|      {จราจร}|17003|\n",
      "|       {ป้าย}|15237|\n",
      "|{ความปลอดภัย}|14409|\n",
      "|     {ต้นไม้}| 9996|\n",
      "+-------------+-----+\n",
      "\n"
     ]
    },
    {
     "name": "stderr",
     "output_type": "stream",
     "text": [
      "                                                                                \r"
     ]
    }
   ],
   "source": [
    "traffy_df.groupBy(\"type\").count().orderBy(\"count\", ascending=False).show()"
   ]
  },
  {
   "cell_type": "code",
   "execution_count": 10,
   "id": "ea1f6439",
   "metadata": {},
   "outputs": [
    {
     "name": "stdout",
     "output_type": "stream",
     "text": [
      "+-----------------------------+\n",
      "|timestamp                    |\n",
      "+-----------------------------+\n",
      "|2023-01-01 00:03:43.789292+00|\n",
      "|2023-01-01 00:10:26.940037+00|\n",
      "|2023-01-01 00:21:48.772987+00|\n",
      "|2023-01-01 00:33:33.072634+00|\n",
      "|2023-01-01 00:52:57.351703+00|\n",
      "|2023-01-01 00:53:14.138525+00|\n",
      "|2023-01-01 01:45:46.369+00   |\n",
      "|2023-01-01 01:47:23.336628+00|\n",
      "|2023-01-01 01:56:38.184056+00|\n",
      "|2023-01-01 02:09:54.197892+00|\n",
      "+-----------------------------+\n",
      "only showing top 10 rows\n",
      "\n"
     ]
    },
    {
     "name": "stderr",
     "output_type": "stream",
     "text": [
      "                                                                                \r"
     ]
    }
   ],
   "source": [
    "keep_years = [\"2023\", \"2024\", \"2025\"]\n",
    "\n",
    "traffy_df = traffy_df.filter(substring(col(\"timestamp\"), 1, 4).isin(keep_years))\n",
    "\n",
    "traffy_df.select(\"timestamp\").show(10, truncate=False)"
   ]
  },
  {
   "cell_type": "code",
   "execution_count": 11,
   "id": "5b6cb0ba",
   "metadata": {},
   "outputs": [
    {
     "name": "stderr",
     "output_type": "stream",
     "text": [
      "                                                                                \r"
     ]
    },
    {
     "name": "stdout",
     "output_type": "stream",
     "text": [
      "+---------+----+------------+-------+------+-------+-----------+--------+--------+---------+-----+------------+-------------+\n",
      "|ticket_id|type|organization|comment|coords|address|subdistrict|district|province|timestamp|state|count_reopen|last_activity|\n",
      "+---------+----+------------+-------+------+-------+-----------+--------+--------+---------+-----+------------+-------------+\n",
      "|     2293|   0|          44|   2293|     0|   2293|          0|       0|       0|        0|    0|           0|            0|\n",
      "+---------+----+------------+-------+------+-------+-----------+--------+--------+---------+-----+------------+-------------+\n",
      "\n"
     ]
    },
    {
     "name": "stderr",
     "output_type": "stream",
     "text": [
      "[Stage 17:>                                                         (0 + 1) / 1]\r"
     ]
    },
    {
     "name": "stdout",
     "output_type": "stream",
     "text": [
      "Rows: 242989, Columns: 13\n"
     ]
    },
    {
     "name": "stderr",
     "output_type": "stream",
     "text": [
      "                                                                                \r"
     ]
    }
   ],
   "source": [
    "keep_districts = ['คลองสาน', 'คลองสามวา', 'คลองเตย', 'คันนายาว', 'จตุจักร', 'จอมทอง', 'ดอนเมือง', 'ดินแดง', 'ดุสิต', 'ตลิ่งชัน', 'ทวีวัฒนา', 'ทุ่งครุ', 'ธนบุรี', 'บางกอกน้อย', 'บางกอกใหญ่', 'บางกะปิ', 'บางขุนเทียน', 'บางคอแหลม', 'บางซื่อ', 'บางนา', 'บางบอน', 'บางพลัด', 'บางรัก', 'บางเขน', 'บางแค', 'บึงกุ่ม', 'ปทุมวัน', 'ประเวศ', 'ป้อมปราบศัตรูพ่าย', 'พญาไท', 'พระนคร', 'พระโขนง', 'ภาษีเจริญ', 'มีนบุรี', 'ยานนาวา', 'ราชเทวี', 'ราษฎร์บูรณะ', 'ลาดกระบัง', 'ลาดพร้าว', 'วังทองหลาง', 'วัฒนา', 'สวนหลวง', 'สะพานสูง', 'สัมพันธวงศ์', 'สาทร', 'สายไหม', 'หนองจอก', 'หนองแขม', 'หลักสี่', 'ห้วยขวาง']\n",
    "\n",
    "traffy_df = traffy_df.filter(col(\"district\").isin(keep_districts))\n",
    "\n",
    "null_counts = traffy_df.select([\n",
    "    _sum(when(col(c).isNull() | isnan(col(c)), 1).otherwise(0)).alias(c)\n",
    "    for c in traffy_df.columns\n",
    "])\n",
    "null_counts.show()\n",
    "\n",
    "print(f\"Rows: {traffy_df.count()}, Columns: {len(traffy_df.columns)}\")"
   ]
  },
  {
   "cell_type": "code",
   "execution_count": 12,
   "id": "4838bbc2",
   "metadata": {},
   "outputs": [
    {
     "name": "stdout",
     "output_type": "stream",
     "text": [
      "+--------------------------+-------------------+----+\n",
      "|timestamp                 |rounded_hour       |year|\n",
      "+--------------------------+-------------------+----+\n",
      "|2023-01-01 07:03:43.789292|2023-01-01 07:00:00|2023|\n",
      "|2023-01-01 07:10:26.940037|2023-01-01 07:00:00|2023|\n",
      "|2023-01-01 07:21:48.772987|2023-01-01 07:00:00|2023|\n",
      "|2023-01-01 07:33:33.072634|2023-01-01 08:00:00|2023|\n",
      "|2023-01-01 07:52:57.351703|2023-01-01 08:00:00|2023|\n",
      "+--------------------------+-------------------+----+\n",
      "only showing top 5 rows\n",
      "\n"
     ]
    },
    {
     "name": "stderr",
     "output_type": "stream",
     "text": [
      "                                                                                \r"
     ]
    }
   ],
   "source": [
    "# Ensure timestamp is properly parsed\n",
    "traffy_df = traffy_df.withColumn(\"timestamp\", to_timestamp(col(\"timestamp\")))\n",
    "\n",
    "# Round to the nearest hour\n",
    "traffy_df = traffy_df.withColumn(\n",
    "    \"rounded_hour\",\n",
    "    expr(\"\"\"\n",
    "        from_unixtime(\n",
    "            round(unix_timestamp(timestamp) / 3600.0) * 3600\n",
    "        )\n",
    "    \"\"\")\n",
    ")\n",
    "\n",
    "# Extract year\n",
    "\n",
    "traffy_df = traffy_df.withColumn(\"year\", year(col(\"rounded_hour\")))\n",
    "\n",
    "# Show result\n",
    "traffy_df.select(\"timestamp\", \"rounded_hour\", \"year\").show(5, truncate=False)"
   ]
  },
  {
   "cell_type": "markdown",
   "id": "ea4fd351",
   "metadata": {},
   "source": [
    "## Read Weather Data"
   ]
  },
  {
   "cell_type": "code",
   "execution_count": 13,
   "id": "44ef7e70",
   "metadata": {},
   "outputs": [
    {
     "name": "stdout",
     "output_type": "stream",
     "text": [
      "+-------------------+--------------+--------------------+--------------------+-------------+------------+----+\n",
      "|timestamp          |temperature_2m|relative_humidity_2m|apparent_temperature|precipitation|dew_point_2m|rain|\n",
      "+-------------------+--------------+--------------------+--------------------+-------------+------------+----+\n",
      "|2021-03-23 14:00:00|27.5805       |46.0                |27.061237           |NULL         |14.9252     |NULL|\n",
      "|2021-03-23 15:00:00|28.630499     |43.0                |28.3903             |0.0          |14.8279295  |0.0 |\n",
      "|2021-03-23 16:00:00|30.4805       |39.0                |30.377312           |0.0          |14.96784    |0.0 |\n",
      "|2021-03-23 17:00:00|32.2305       |36.0                |33.20875            |0.0          |15.271539   |0.0 |\n",
      "|2021-03-23 18:00:00|33.830498     |34.0                |36.10794            |0.0          |15.782984   |0.0 |\n",
      "+-------------------+--------------+--------------------+--------------------+-------------+------------+----+\n",
      "only showing top 5 rows\n",
      "\n",
      "root\n",
      " |-- timestamp: timestamp (nullable = true)\n",
      " |-- temperature_2m: double (nullable = true)\n",
      " |-- relative_humidity_2m: double (nullable = true)\n",
      " |-- apparent_temperature: double (nullable = true)\n",
      " |-- precipitation: double (nullable = true)\n",
      " |-- dew_point_2m: double (nullable = true)\n",
      " |-- rain: double (nullable = true)\n",
      "\n"
     ]
    }
   ],
   "source": [
    "weather_df = spark.read.option(\"header\", True) \\\n",
    "                       .option(\"inferSchema\", True) \\\n",
    "                       .option(\"timestampFormat\", \"yyyy-MM-dd HH:mm:ssXXX\") \\\n",
    "                       .csv(\"data/hourly_data.csv\")\n",
    "\n",
    "weather_df.show(5, truncate=False)\n",
    "weather_df.printSchema()"
   ]
  },
  {
   "cell_type": "markdown",
   "id": "cb62c932",
   "metadata": {},
   "source": [
    "## Read Budget Data"
   ]
  },
  {
   "cell_type": "code",
   "execution_count": 14,
   "id": "8c54ee64",
   "metadata": {},
   "outputs": [
    {
     "name": "stdout",
     "output_type": "stream",
     "text": [
      "+---------+----+---------+\n",
      "|district |year|budget   |\n",
      "+---------+----+---------+\n",
      "|คลองสาน  |2023|297660600|\n",
      "|คลองสามวา|2023|436119000|\n",
      "|คลองเตย  |2023|348985200|\n",
      "|คันนายาว |2023|272905200|\n",
      "|จตุจักร  |2023|495825600|\n",
      "+---------+----+---------+\n",
      "only showing top 5 rows\n",
      "\n",
      "root\n",
      " |-- district: string (nullable = true)\n",
      " |-- year: integer (nullable = true)\n",
      " |-- budget: integer (nullable = true)\n",
      "\n"
     ]
    }
   ],
   "source": [
    "budget_df = spark.read.option(\"header\", True) \\\n",
    "                      .option(\"inferSchema\", True) \\\n",
    "                      .csv(\"data/budget.csv\")\n",
    "\n",
    "budget_df.show(5, truncate=False)\n",
    "budget_df.printSchema()"
   ]
  },
  {
   "cell_type": "markdown",
   "id": "bd1aef53",
   "metadata": {},
   "source": [
    "## Read Population Data"
   ]
  },
  {
   "cell_type": "code",
   "execution_count": 15,
   "id": "c77df51f",
   "metadata": {},
   "outputs": [
    {
     "name": "stdout",
     "output_type": "stream",
     "text": [
      "+-----------+----------+\n",
      "|district   |population|\n",
      "+-----------+----------+\n",
      "|คลองสามวา  |209120    |\n",
      "|สายไหม     |208928    |\n",
      "|บางแค      |192253    |\n",
      "|บางเขน     |185369    |\n",
      "|บางขุนเทียน|184805    |\n",
      "+-----------+----------+\n",
      "only showing top 5 rows\n",
      "\n",
      "root\n",
      " |-- district: string (nullable = true)\n",
      " |-- population: integer (nullable = true)\n",
      "\n"
     ]
    }
   ],
   "source": [
    "population_df = spark.read.option(\"header\", True) \\\n",
    "                          .option(\"inferSchema\", True) \\\n",
    "                          .csv(\"data/bangkok_population.csv\")\n",
    "\n",
    "population_df.show(5, truncate=False)\n",
    "population_df.printSchema()"
   ]
  },
  {
   "cell_type": "markdown",
   "id": "83ee3478",
   "metadata": {},
   "source": [
    "## Merge The Dataframes into 1 Dataframe (merged_df)"
   ]
  },
  {
   "cell_type": "code",
   "execution_count": 16,
   "id": "266657ba",
   "metadata": {},
   "outputs": [
    {
     "name": "stdout",
     "output_type": "stream",
     "text": [
      "+-----------+-------------+------------------------------------------------------------------------------------------------------------------------------------------------------------------------------------------------------------------------------------------------------------------------------------------------------------------------------------------------------+-----------------------------------------------------------------------------------------+------------------+--------------------------------------------------------------------------------------------------------------+-----------+-----------+--------------------+---------+------------+-----------------------------+-------------------+----+--------------+--------------------+--------------------+-------------+------------+----+\n",
      "|ticket_id  |type         |organization                                                                                                                                                                                                                                                                                                                                          |comment                                                                                  |coords            |address                                                                                                       |subdistrict|district   |province            |state    |count_reopen|last_activity                |rounded_hour       |year|temperature_2m|relative_humidity_2m|apparent_temperature|precipitation|dew_point_2m|rain|\n",
      "+-----------+-------------+------------------------------------------------------------------------------------------------------------------------------------------------------------------------------------------------------------------------------------------------------------------------------------------------------------------------------------------------------+-----------------------------------------------------------------------------------------+------------------+--------------------------------------------------------------------------------------------------------------+-----------+-----------+--------------------+---------+------------+-----------------------------+-------------------+----+--------------+--------------------+--------------------+-------------+------------+----+\n",
      "|2023-CUU99N|{ถนน}        |เขตราษฎร์บูรณะ,สำนักการโยธา กทม.,การประปานครหลวง กปน. (Metropolitan Waterworks Authority - MWA),สำนักงานประปาสาขาสุขสวัสดิ์ สสว.,ผอ.เขตราษฎร์บูรณะ (นายดลจิตร์),กลุ่มกรุงธนใต้ (นายเฉลิมพล โชตินุชิต),กองแผนงานและประสานสาธารณูปโภค สำนักการโยธา (กผภ.สนย.) กทม.,ศูนย์ก่อสร้างและบูรณะถนน 2 ส่วนก่อสร้างและบูรณะ 2 สำนักงานก่อสร้างและบูรณะ (สกบ.สนย.)|มีน้ำซึมออกมาบริเวณถนน ทำให้มีน้ำขังบนถนนตลอดเวลา                                        |100.51425,13.67737|256 1 ถ. ราษฎร์บูรณะ แขวง ราษฎร์บูรณะ เขตราษฎร์บูรณะ กรุงเทพมหานคร 10140 ประเทศไทย                            |ราษฎร์บูรณะ|ราษฎร์บูรณะ|กรุงเทพมหานคร       |เสร็จสิ้น|0           |2023-01-30 13:28:47.357954+00|2023-01-01 07:00:00|2023|23.654501     |73.0                |26.055971           |0.0          |18.529364   |0.0 |\n",
      "|2023-L6R8AX|{ท่อระบายน้ำ}|เขตพระโขนง,การประปานครหลวง กปน. (Metropolitan Waterworks Authority - MWA),สำนักงานประปาสาขาพระโขนง สสพ.,ผอ.เขตพระโขนง (น.ส.วรุณลักษม์),กลุ่มกรุงเทพใต้ (นายชาตรี วัฒนเขจร)                                                                                                                                                                            |ท่อน้ำแตก น้ำผุดไหลตลอด                                                                  |100.63164,13.69385|1293/40 ซอย วชิรธรรมสาธิต 57 ซอย สุขุมวิท 101 แขวง บางจาก เขตพระโขนง กรุงเทพมหานคร 10260 ประเทศไทย            |บางจาก     |พระโขนง    |กรุงเทพมหานคร       |เสร็จสิ้น|0           |2023-01-02 08:10:34.301068+00|2023-01-01 07:00:00|2023|23.654501     |73.0                |26.055971           |0.0          |18.529364   |0.0 |\n",
      "|2023-GP96FN|{ท่อระบายน้ำ}|เขตจตุจักร,บริษัท โทรคมนาคมแห่งชาติ จำกัด (มหาชน)                                                                                                                                                                                                                                                                                                     |ฝ่าท่อชำรุด                                                                              |100.57172,13.83283|1714 ถ. พหลโยธิน แขวง ลาดยาว เขตจตุจักร กรุงเทพมหานคร 10900 ประเทศไทย                                         |จันทรเกษม  |จตุจักร    |กรุงเทพมหานคร       |เสร็จสิ้น|0           |2023-12-08 08:34:06.082492+00|2023-01-01 07:00:00|2023|23.654501     |73.0                |26.055971           |0.0          |18.529364   |0.0 |\n",
      "|2023-PDNT9X|{ท่อระบายน้ำ}|เขตตลิ่งชัน,สำนักการระบายน้ำ กทม.,สำนักการโยธา กทม.,กองระบบท่อระบายน้ำ สำนักการระบายน้ำ,ผอ.เขตตลิ่งชัน (นางชดาวรรณ),กลุ่มกรุงธนเหนือ (นายเฉลิมพล โชตินุชิต)                                                                                                                                                                                           |ฝาท่อชำรุด                                                                               |100.45422,13.79601|47/2 หมู่10 ถนน สวนผัก แขวง ตลิ่งชัน เขตตลิ่งชัน กรุงเทพมหานคร 10170 ประเทศไทย                                |ตลิ่งชัน   |ตลิ่งชัน   |กรุงเทพมหานคร       |เสร็จสิ้น|0           |2023-01-05 01:36:42.213173+00|2023-01-01 08:00:00|2023|23.154501     |73.0                |25.387657           |0.0          |18.04838    |0.0 |\n",
      "|BN6HC4     |{แสงสว่าง}   |เขตมีนบุรี,การไฟฟ้านครหลวง เขตลาดกระบัง,การไฟฟ้านครหลวง MEA,ผอ.เขตมีนบุรี (นายศักดิ์ชัย),กลุ่มกรุงเทพตะวันออก (นายณรงค์ เรืองศรี)                                                                                                                                                                                                                     |ไฟทางสาธารณะ ดับ ต้น ง9 1 ดวง / เดี๋ยวเจ้าหน้าที่มาเก็บขยะ จะทำให้ไม่มีแสงสว่างครับ #1555|100.77977,13.81060|ชอยคุ้มเกล้า 2 แสนแสบ มีนบุรี กรุงเทพมหานคร ซอยคุ้มเกล้า ซอย2 เข้าจากปากซอย 300 เมตร\\nใกล้โรงเรียนเทคนิคกาญจนา|แสนแสบ     |มีนบุรี    |จังหวัดกรุงเทพมหานคร|เสร็จสิ้น|0           |2023-01-20 01:55:02.104632+00|2023-01-01 08:00:00|2023|23.154501     |73.0                |25.387657           |0.0          |18.04838    |0.0 |\n",
      "+-----------+-------------+------------------------------------------------------------------------------------------------------------------------------------------------------------------------------------------------------------------------------------------------------------------------------------------------------------------------------------------------------+-----------------------------------------------------------------------------------------+------------------+--------------------------------------------------------------------------------------------------------------+-----------+-----------+--------------------+---------+------------+-----------------------------+-------------------+----+--------------+--------------------+--------------------+-------------+------------+----+\n",
      "only showing top 5 rows\n",
      "\n"
     ]
    },
    {
     "name": "stderr",
     "output_type": "stream",
     "text": [
      "                                                                                \r"
     ]
    }
   ],
   "source": [
    "# Ensure the timestamp columns are in the correct format (UTC)\n",
    "weather_df = weather_df.withColumn(\"timestamp\", to_timestamp(\"timestamp\", \"yyyy-MM-dd HH:mm:ssXXX\"))\n",
    "\n",
    "# Assuming 'traffy_df' already has 'rounded_hour' in timestamp format\n",
    "# If not, you can convert it as well (e.g., to_timestamp)\n",
    "# traffy_df = traffy_df.withColumn(\"rounded_hour\", to_timestamp(\"rounded_hour\", \"yyyy-MM-dd HH:mm:ss\"))\n",
    "\n",
    "# Join traffy_df with weather_df on rounded_hour and timestamp\n",
    "merged_df = traffy_df.join(weather_df, \n",
    "                           traffy_df[\"rounded_hour\"] == weather_df[\"timestamp\"], \n",
    "                           how=\"left\")\n",
    "\n",
    "# Drop the redundant 'timestamp' column from weather_df\n",
    "merged_df = merged_df.drop(\"timestamp\")\n",
    "\n",
    "# Show the merged DataFrame\n",
    "merged_df.show(5, truncate=False)"
   ]
  },
  {
   "cell_type": "code",
   "execution_count": 17,
   "id": "57f72242",
   "metadata": {},
   "outputs": [
    {
     "name": "stdout",
     "output_type": "stream",
     "text": [
      "+----+-----------+---------+\n",
      "|year|district   |budget   |\n",
      "+----+-----------+---------+\n",
      "|2023|ราษฎร์บูรณะ|293458600|\n",
      "|2023|พระโขนง    |249406400|\n",
      "|2023|จตุจักร    |495825600|\n",
      "|2023|ตลิ่งชัน   |339581400|\n",
      "|2023|มีนบุรี    |428982700|\n",
      "+----+-----------+---------+\n",
      "only showing top 5 rows\n",
      "\n"
     ]
    },
    {
     "name": "stderr",
     "output_type": "stream",
     "text": [
      "                                                                                \r"
     ]
    }
   ],
   "source": [
    "# Perform the join on 'year' and 'district' columns\n",
    "merged_df = merged_df.join(\n",
    "    budget_df, \n",
    "    on=['year', 'district'], \n",
    "    how='left'\n",
    ")\n",
    "\n",
    "# Show the relevant columns (year, district, and budget)\n",
    "merged_df.select('year', 'district', 'budget').show(5, truncate=False)"
   ]
  },
  {
   "cell_type": "code",
   "execution_count": 18,
   "id": "d54d59c8",
   "metadata": {},
   "outputs": [
    {
     "name": "stdout",
     "output_type": "stream",
     "text": [
      "+-----------+----------+\n",
      "|district   |population|\n",
      "+-----------+----------+\n",
      "|ราษฎร์บูรณะ|76590     |\n",
      "|พระโขนง    |86290     |\n",
      "|จตุจักร    |153792    |\n",
      "|ตลิ่งชัน   |101802    |\n",
      "|มีนบุรี    |141030    |\n",
      "+-----------+----------+\n",
      "only showing top 5 rows\n",
      "\n"
     ]
    },
    {
     "name": "stderr",
     "output_type": "stream",
     "text": [
      "                                                                                \r"
     ]
    }
   ],
   "source": [
    "# Perform the join on 'district' column\n",
    "merged_df = merged_df.join(\n",
    "    population_df, \n",
    "    on='district', \n",
    "    how='left'\n",
    ")\n",
    "\n",
    "# Show the relevant columns (e.g., district and population)\n",
    "merged_df.select('district', 'population').show(5, truncate=False)"
   ]
  },
  {
   "cell_type": "code",
   "execution_count": 19,
   "id": "81ed7cb7",
   "metadata": {},
   "outputs": [
    {
     "name": "stderr",
     "output_type": "stream",
     "text": [
      "[Stage 42:>                                                         (0 + 1) / 1]\r"
     ]
    },
    {
     "name": "stdout",
     "output_type": "stream",
     "text": [
      "+--------+----+---------+----+------------+-------+------+-------+-----------+--------+-----+------------+-------------+------------+--------------+--------------------+--------------------+-------------+------------+----+------+----------+\n",
      "|district|year|ticket_id|type|organization|comment|coords|address|subdistrict|province|state|count_reopen|last_activity|rounded_hour|temperature_2m|relative_humidity_2m|apparent_temperature|precipitation|dew_point_2m|rain|budget|population|\n",
      "+--------+----+---------+----+------------+-------+------+-------+-----------+--------+-----+------------+-------------+------------+--------------+--------------------+--------------------+-------------+------------+----+------+----------+\n",
      "|0       |0   |2293     |0   |44          |2293   |0     |2293   |0          |0       |0    |0           |0            |0           |0             |0                   |0                   |0            |0           |0   |0     |0         |\n",
      "+--------+----+---------+----+------------+-------+------+-------+-----------+--------+-----+------------+-------------+------------+--------------+--------------------+--------------------+-------------+------------+----+------+----------+\n",
      "\n"
     ]
    },
    {
     "name": "stderr",
     "output_type": "stream",
     "text": [
      "                                                                                \r"
     ]
    }
   ],
   "source": [
    "null_counts = merged_df.select(\n",
    "    [count(when(col(c).isNull(), 1)).alias(c) for c in merged_df.columns]\n",
    ")\n",
    "\n",
    "null_counts.show(truncate=False)"
   ]
  },
  {
   "cell_type": "code",
   "execution_count": 20,
   "id": "19e39088",
   "metadata": {},
   "outputs": [
    {
     "name": "stdout",
     "output_type": "stream",
     "text": [
      "+-----------+-----------+-------------+------------------------------------------------------------------------------------------------------------------------------------------------------------------------------------------------------------------------------------------------------------------------------------------------------------------------------------------------------+-----------------------------------------------------------------------------------------+------------------+--------------------------------------------------------------------------------------------------------------+-----------+--------------------+---------+------------+-----------------------------+--------------+--------------------+--------------------+-------------+------------+----+---------+----------+\n",
      "|district   |ticket_id  |type         |organization                                                                                                                                                                                                                                                                                                                                          |comment                                                                                  |coords            |address                                                                                                       |subdistrict|province            |state    |count_reopen|last_activity                |temperature_2m|relative_humidity_2m|apparent_temperature|precipitation|dew_point_2m|rain|budget   |population|\n",
      "+-----------+-----------+-------------+------------------------------------------------------------------------------------------------------------------------------------------------------------------------------------------------------------------------------------------------------------------------------------------------------------------------------------------------------+-----------------------------------------------------------------------------------------+------------------+--------------------------------------------------------------------------------------------------------------+-----------+--------------------+---------+------------+-----------------------------+--------------+--------------------+--------------------+-------------+------------+----+---------+----------+\n",
      "|ราษฎร์บูรณะ|2023-CUU99N|{ถนน}        |เขตราษฎร์บูรณะ,สำนักการโยธา กทม.,การประปานครหลวง กปน. (Metropolitan Waterworks Authority - MWA),สำนักงานประปาสาขาสุขสวัสดิ์ สสว.,ผอ.เขตราษฎร์บูรณะ (นายดลจิตร์),กลุ่มกรุงธนใต้ (นายเฉลิมพล โชตินุชิต),กองแผนงานและประสานสาธารณูปโภค สำนักการโยธา (กผภ.สนย.) กทม.,ศูนย์ก่อสร้างและบูรณะถนน 2 ส่วนก่อสร้างและบูรณะ 2 สำนักงานก่อสร้างและบูรณะ (สกบ.สนย.)|มีน้ำซึมออกมาบริเวณถนน ทำให้มีน้ำขังบนถนนตลอดเวลา                                        |100.51425,13.67737|256 1 ถ. ราษฎร์บูรณะ แขวง ราษฎร์บูรณะ เขตราษฎร์บูรณะ กรุงเทพมหานคร 10140 ประเทศไทย                            |ราษฎร์บูรณะ|กรุงเทพมหานคร       |เสร็จสิ้น|0           |2023-01-30 13:28:47.357954+00|23.654501     |73.0                |26.055971           |0.0          |18.529364   |0.0 |293458600|76590     |\n",
      "|พระโขนง    |2023-L6R8AX|{ท่อระบายน้ำ}|เขตพระโขนง,การประปานครหลวง กปน. (Metropolitan Waterworks Authority - MWA),สำนักงานประปาสาขาพระโขนง สสพ.,ผอ.เขตพระโขนง (น.ส.วรุณลักษม์),กลุ่มกรุงเทพใต้ (นายชาตรี วัฒนเขจร)                                                                                                                                                                            |ท่อน้ำแตก น้ำผุดไหลตลอด                                                                  |100.63164,13.69385|1293/40 ซอย วชิรธรรมสาธิต 57 ซอย สุขุมวิท 101 แขวง บางจาก เขตพระโขนง กรุงเทพมหานคร 10260 ประเทศไทย            |บางจาก     |กรุงเทพมหานคร       |เสร็จสิ้น|0           |2023-01-02 08:10:34.301068+00|23.654501     |73.0                |26.055971           |0.0          |18.529364   |0.0 |249406400|86290     |\n",
      "|จตุจักร    |2023-GP96FN|{ท่อระบายน้ำ}|เขตจตุจักร,บริษัท โทรคมนาคมแห่งชาติ จำกัด (มหาชน)                                                                                                                                                                                                                                                                                                     |ฝ่าท่อชำรุด                                                                              |100.57172,13.83283|1714 ถ. พหลโยธิน แขวง ลาดยาว เขตจตุจักร กรุงเทพมหานคร 10900 ประเทศไทย                                         |จันทรเกษม  |กรุงเทพมหานคร       |เสร็จสิ้น|0           |2023-12-08 08:34:06.082492+00|23.654501     |73.0                |26.055971           |0.0          |18.529364   |0.0 |495825600|153792    |\n",
      "|ตลิ่งชัน   |2023-PDNT9X|{ท่อระบายน้ำ}|เขตตลิ่งชัน,สำนักการระบายน้ำ กทม.,สำนักการโยธา กทม.,กองระบบท่อระบายน้ำ สำนักการระบายน้ำ,ผอ.เขตตลิ่งชัน (นางชดาวรรณ),กลุ่มกรุงธนเหนือ (นายเฉลิมพล โชตินุชิต)                                                                                                                                                                                           |ฝาท่อชำรุด                                                                               |100.45422,13.79601|47/2 หมู่10 ถนน สวนผัก แขวง ตลิ่งชัน เขตตลิ่งชัน กรุงเทพมหานคร 10170 ประเทศไทย                                |ตลิ่งชัน   |กรุงเทพมหานคร       |เสร็จสิ้น|0           |2023-01-05 01:36:42.213173+00|23.154501     |73.0                |25.387657           |0.0          |18.04838    |0.0 |339581400|101802    |\n",
      "|มีนบุรี    |BN6HC4     |{แสงสว่าง}   |เขตมีนบุรี,การไฟฟ้านครหลวง เขตลาดกระบัง,การไฟฟ้านครหลวง MEA,ผอ.เขตมีนบุรี (นายศักดิ์ชัย),กลุ่มกรุงเทพตะวันออก (นายณรงค์ เรืองศรี)                                                                                                                                                                                                                     |ไฟทางสาธารณะ ดับ ต้น ง9 1 ดวง / เดี๋ยวเจ้าหน้าที่มาเก็บขยะ จะทำให้ไม่มีแสงสว่างครับ #1555|100.77977,13.81060|ชอยคุ้มเกล้า 2 แสนแสบ มีนบุรี กรุงเทพมหานคร ซอยคุ้มเกล้า ซอย2 เข้าจากปากซอย 300 เมตร\\nใกล้โรงเรียนเทคนิคกาญจนา|แสนแสบ     |จังหวัดกรุงเทพมหานคร|เสร็จสิ้น|0           |2023-01-20 01:55:02.104632+00|23.154501     |73.0                |25.387657           |0.0          |18.04838    |0.0 |428982700|141030    |\n",
      "+-----------+-----------+-------------+------------------------------------------------------------------------------------------------------------------------------------------------------------------------------------------------------------------------------------------------------------------------------------------------------------------------------------------------------+-----------------------------------------------------------------------------------------+------------------+--------------------------------------------------------------------------------------------------------------+-----------+--------------------+---------+------------+-----------------------------+--------------+--------------------+--------------------+-------------+------------+----+---------+----------+\n",
      "only showing top 5 rows\n",
      "\n"
     ]
    },
    {
     "name": "stderr",
     "output_type": "stream",
     "text": [
      "                                                                                \r"
     ]
    }
   ],
   "source": [
    "# Drop the 'rounded_hour' and 'year' columns\n",
    "merged_df = merged_df.drop('rounded_hour', 'year')\n",
    "\n",
    "# Show the result to confirm\n",
    "merged_df.show(5, truncate=False)"
   ]
  },
  {
   "cell_type": "markdown",
   "id": "7824ae0b",
   "metadata": {},
   "source": [
    "## Save to csv to preprocess further"
   ]
  },
  {
   "cell_type": "code",
   "execution_count": 21,
   "id": "b58b7bc2",
   "metadata": {},
   "outputs": [
    {
     "name": "stderr",
     "output_type": "stream",
     "text": [
      "                                                                                \r"
     ]
    }
   ],
   "source": [
    "merged_df.coalesce(1).write.option(\"header\", \"true\").csv(\"data/spark_results\")"
   ]
  }
 ],
 "metadata": {
  "kernelspec": {
   "display_name": "Python 3",
   "language": "python",
   "name": "python3"
  },
  "language_info": {
   "codemirror_mode": {
    "name": "ipython",
    "version": 3
   },
   "file_extension": ".py",
   "mimetype": "text/x-python",
   "name": "python",
   "nbconvert_exporter": "python",
   "pygments_lexer": "ipython3",
   "version": "3.13.2"
  }
 },
 "nbformat": 4,
 "nbformat_minor": 5
}
